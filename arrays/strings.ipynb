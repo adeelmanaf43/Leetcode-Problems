{
 "cells": [
  {
   "cell_type": "markdown",
   "metadata": {},
   "source": [
    "### 3. Longest Substring Without Repeating Characters\n"
   ]
  },
  {
   "cell_type": "code",
   "execution_count": 3,
   "metadata": {},
   "outputs": [
    {
     "data": {
      "text/plain": [
       "6"
      ]
     },
     "execution_count": 3,
     "metadata": {},
     "output_type": "execute_result"
    }
   ],
   "source": [
    "def lengthOfLongestSubstring(s):\n",
    "    \"\"\"\n",
    "    This function return the longest substring without any repeating characters\n",
    "    but using substring method.\n",
    "    \"\"\"\n",
    "    left = 0\n",
    "    max_len = 0\n",
    "    sub_str = \"\"\n",
    "    for right in range(left, len(s)): #(0,8) 0, 1, 2, 3, 4\n",
    "        if s[right] not in sub_str: #s[0], s[1], d\n",
    "            sub_str += s[right] \n",
    "            #print(sub_str) #pnbw\n",
    "        else:\n",
    "            left += sub_str.index(s[right])+1 # 2\n",
    "            #print(left)\n",
    "            # print(left, right)\n",
    "            if len(sub_str) > max_len: #4 > 0\n",
    "                max_len = len(sub_str) # 4\n",
    "            sub_str = s[left:right+1] #pnb\n",
    "    return max(max_len, len(sub_str))\n",
    "lengthOfLongestSubstring(\"abcabcdef\")"
   ]
  },
  {
   "cell_type": "code",
   "execution_count": 111,
   "metadata": {},
   "outputs": [
    {
     "name": "stdout",
     "output_type": "stream",
     "text": [
      "0 {'a': 0}\n",
      "1 {'a': 0, 'b': 1}\n",
      "2 2\n"
     ]
    },
    {
     "data": {
      "text/plain": [
       "2"
      ]
     },
     "execution_count": 111,
     "metadata": {},
     "output_type": "execute_result"
    }
   ],
   "source": [
    "def lengthOfLongestSubstring(s):\n",
    "    \"\"\"\n",
    "    This function return the longest substring without any repeating characters\n",
    "    but using sliding window approach.\n",
    "    \"\"\"\n",
    "    n = len(s)\n",
    "    dic = {}\n",
    "    left = 0\n",
    "    max_len = 0\n",
    "    for right in range(0, n): \n",
    "        if s[right] not in dic:\n",
    "            dic[s[right]] = right \n",
    "            print(right, dic)\n",
    "        else:\n",
    "            if dic[s[right]] >= left:\n",
    "                 left = dic[s[right]] + 1\n",
    "            dic[s[right]] = right\n",
    "            print(right, left)\n",
    "        if max_len < right - left +1 :\n",
    "            max_len = right  - left + 1\n",
    "    return max_len\n",
    "\n",
    "lengthOfLongestSubstring(\"abb\")"
   ]
  }
 ],
 "metadata": {
  "kernelspec": {
   "display_name": "Python 3",
   "language": "python",
   "name": "python3"
  },
  "language_info": {
   "codemirror_mode": {
    "name": "ipython",
    "version": 3
   },
   "file_extension": ".py",
   "mimetype": "text/x-python",
   "name": "python",
   "nbconvert_exporter": "python",
   "pygments_lexer": "ipython3",
   "version": "3.12.0"
  }
 },
 "nbformat": 4,
 "nbformat_minor": 2
}
