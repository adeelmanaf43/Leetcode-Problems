{
 "cells": [
  {
   "cell_type": "markdown",
   "metadata": {},
   "source": [
    "### 3. Longest Substring Without Repeating Characters\n"
   ]
  },
  {
   "cell_type": "code",
   "execution_count": 3,
   "metadata": {},
   "outputs": [
    {
     "data": {
      "text/plain": [
       "6"
      ]
     },
     "execution_count": 3,
     "metadata": {},
     "output_type": "execute_result"
    }
   ],
   "source": [
    "def lengthOfLongestSubstring(s):\n",
    "    \"\"\"\n",
    "    This function return the longest substring without any repeating characters\n",
    "    but using substring method.\n",
    "    \"\"\"\n",
    "    left = 0\n",
    "    max_len = 0\n",
    "    sub_str = \"\"\n",
    "    for right in range(left, len(s)): #(0,8) 0, 1, 2, 3, 4\n",
    "        if s[right] not in sub_str: #s[0], s[1], d\n",
    "            sub_str += s[right] \n",
    "            #print(sub_str) #pnbw\n",
    "        else:\n",
    "            left += sub_str.index(s[right])+1 # 2\n",
    "            #print(left)\n",
    "            # print(left, right)\n",
    "            if len(sub_str) > max_len: #4 > 0\n",
    "                max_len = len(sub_str) # 4\n",
    "            sub_str = s[left:right+1] #pnb\n",
    "    return max(max_len, len(sub_str))\n",
    "lengthOfLongestSubstring(\"abcabcdef\")"
   ]
  },
  {
   "cell_type": "code",
   "execution_count": 111,
   "metadata": {},
   "outputs": [
    {
     "name": "stdout",
     "output_type": "stream",
     "text": [
      "0 {'a': 0}\n",
      "1 {'a': 0, 'b': 1}\n",
      "2 2\n"
     ]
    },
    {
     "data": {
      "text/plain": [
       "2"
      ]
     },
     "execution_count": 111,
     "metadata": {},
     "output_type": "execute_result"
    }
   ],
   "source": [
    "def lengthOfLongestSubstring(s):\n",
    "    \"\"\"\n",
    "    This function return the longest substring without any repeating characters\n",
    "    but using sliding window approach.\n",
    "    \"\"\"\n",
    "    n = len(s)\n",
    "    dic = {}\n",
    "    left = 0\n",
    "    max_len = 0\n",
    "    for right in range(0, n): \n",
    "        if s[right] not in dic:\n",
    "            dic[s[right]] = right \n",
    "            print(right, dic)\n",
    "        else:\n",
    "            if dic[s[right]] >= left:\n",
    "                 left = dic[s[right]] + 1\n",
    "            dic[s[right]] = right\n",
    "            print(right, left)\n",
    "        if max_len < right - left +1 :\n",
    "            max_len = right  - left + 1\n",
    "    return max_len\n",
    "\n",
    "lengthOfLongestSubstring(\"abb\")"
   ]
  },
  {
   "cell_type": "code",
   "execution_count": 118,
   "metadata": {},
   "outputs": [
    {
     "name": "stdout",
     "output_type": "stream",
     "text": [
      "0 {'a': 0}\n",
      "1 {'a': 0, 'b': 1}\n",
      "2 2\n",
      "2 {'a': 0, 'b': 2}\n",
      "3 2\n",
      "3 {'a': 3, 'b': 2}\n"
     ]
    },
    {
     "data": {
      "text/plain": [
       "2"
      ]
     },
     "execution_count": 118,
     "metadata": {},
     "output_type": "execute_result"
    }
   ],
   "source": [
    "def lengthOfLongestSubstring(s):\n",
    "    left = 0\n",
    "    n = len(s)\n",
    "    dic = {}\n",
    "    max_len = 0\n",
    "    for right in range(0, n): #(0,4) 0,1, 2, 3\n",
    "        \n",
    "        if s[right] not in dic: #a, b,b, a\n",
    "            dic[s[right]] = right #{a:0, b:1,}\n",
    "            print(right, dic)\n",
    "        else:\n",
    "            if dic[s[right]] >= left:\n",
    "                left = dic[s[right]] + 1 #2 \n",
    "            print(right, left)\n",
    "            if max_len < (right-left+1): #1,\n",
    "                max_len = (right-left+1) #1\n",
    "            dic[s[right]] = right #{a:0, b:2}\n",
    "            print(right, dic)\n",
    "    return max_len\n",
    "lengthOfLongestSubstring(\"abba\")\n",
    "            "
   ]
  },
  {
   "cell_type": "markdown",
   "metadata": {},
   "source": [
    "### Zigzag Conversion"
   ]
  },
  {
   "cell_type": "code",
   "execution_count": 52,
   "metadata": {},
   "outputs": [
    {
     "data": {
      "text/plain": [
       "'PINALSIGYAHRPI'"
      ]
     },
     "execution_count": 52,
     "metadata": {},
     "output_type": "execute_result"
    }
   ],
   "source": [
    "s = \"PAYPALISHIRING\"\n",
    "j = 0\n",
    "n = 4\n",
    "l = []\n",
    "flag = True\n",
    "for i in range(n):\n",
    "    l.append([])\n",
    "#l[0].append(s[0])\n",
    "l[0].append(s[0])\n",
    "for i in range(1,len(s)):#(0, 1)\n",
    "    #print(i, j #[[P],[A,],[]]\n",
    "    if flag: #\n",
    "        j+=1 # 1, 2\n",
    "        #print(i, j)\n",
    "    else:\n",
    "        j-=1\n",
    "    l[j].append(s[i])\n",
    "    if j == 0 or j == n-1:\n",
    "        flag = not flag\n",
    "s = ''.join([''.join(i) for j in l for i in j])\n",
    "s"
   ]
  },
  {
   "cell_type": "code",
   "execution_count": null,
   "metadata": {},
   "outputs": [],
   "source": [
    "def convert(s, numRows):\n",
    "    if len(s)<=1 or numRows == 1:\n",
    "        return s\n",
    "    l = []\n",
    "    direction = 1\n",
    "    j = 0\n",
    "    l = [\"\" for _ in range(numRows)]\n",
    "    l[0] = s[0]\n",
    "    for i in range(1,len(s)):\n",
    "        j+=direction\n",
    "        l[j]+=s[i]\n",
    "        if j == 0:\n",
    "            direction = 1\n",
    "        elif j == numRows - 1:\n",
    "            direction = -1\n",
    "    return \"\".join(l)\n",
    "\n",
    "convert(\"PAYPALISHIRING\", 3)   "
   ]
  },
  {
   "cell_type": "code",
   "execution_count": 79,
   "metadata": {},
   "outputs": [
    {
     "data": {
      "text/plain": [
       "'PAHNAPLSIIGYIR'"
      ]
     },
     "execution_count": 79,
     "metadata": {},
     "output_type": "execute_result"
    }
   ],
   "source": [
    "def convert(s, numRows):\n",
    "    if len(s)<=1 or numRows == 1:\n",
    "        return s\n",
    "    l,j,n,flag = [],0,numRows,True\n",
    "    j = 0\n",
    "    l = [[] for i in range(n)]\n",
    "    l[0].append(s[0])\n",
    "    for i in range(1,len(s)):\n",
    "        if flag:\n",
    "            j+=1\n",
    "        else:\n",
    "            j-=1\n",
    "        l[j].append(s[i])\n",
    "        if j in [0, n-1]:\n",
    "            flag = not flag\n",
    "    return ''.join(''.join(i) for j in l for i in j)\n",
    "\n",
    "convert(\"PAYPALISHIRING\", 3)   "
   ]
  },
  {
   "cell_type": "markdown",
   "metadata": {},
   "source": [
    "### 7. Reverse Integer"
   ]
  },
  {
   "cell_type": "code",
   "execution_count": 2,
   "metadata": {},
   "outputs": [
    {
     "name": "stdout",
     "output_type": "stream",
     "text": [
      "4567\n"
     ]
    },
    {
     "data": {
      "text/plain": [
       "-7654"
      ]
     },
     "execution_count": 2,
     "metadata": {},
     "output_type": "execute_result"
    }
   ],
   "source": [
    "def reverse(x):\n",
    "    x2 = abs(x)\n",
    "    print(x2)\n",
    "    rev_x = 0\n",
    "    while x2 >= 10:\n",
    "        rem = x2%10\n",
    "        x2 = x2//10\n",
    "        rev_x = rev_x*10 +rem\n",
    "    rev_x = rev_x*10 + x2\n",
    "    if rev_x > (2 ** 31) - 1:\n",
    "        return 0\n",
    "    if x < 0:\n",
    "        return -1 * rev_x\n",
    "    return rev_x\n",
    "\n",
    "reverse(-4567)"
   ]
  },
  {
   "cell_type": "code",
   "execution_count": 17,
   "metadata": {},
   "outputs": [
    {
     "data": {
      "text/plain": [
       "-42"
      ]
     },
     "execution_count": 17,
     "metadata": {},
     "output_type": "execute_result"
    }
   ],
   "source": [
    "def myAtoi(s):\n",
    "    if len(s) == 0 or s == \"+\" or s == \"-\" or s.isalpha():\n",
    "        return 0\n",
    "    s = s.strip()\n",
    "    int_num = 0\n",
    "    if s[0] == \"-\" or s[0] == \"+\":\n",
    "        j = 1\n",
    "    else:\n",
    "        j = 0\n",
    "    for i in range(j,len(s)):\n",
    "        if s[i].isdigit() :\n",
    "            int_num = int_num*10 + int(s[i])\n",
    "        else:\n",
    "            break\n",
    "    if s.strip()[0] == \"-\":\n",
    "        int_num = -1 * int_num\n",
    "    if int_num > 2**31 -1:\n",
    "        return 2**31-1\n",
    "    elif int_num < -2**31:\n",
    "        return -2**31\n",
    "    return int_num\n",
    "myAtoi(\" -42\")"
   ]
  },
  {
   "cell_type": "code",
   "execution_count": 18,
   "metadata": {},
   "outputs": [
    {
     "data": {
      "text/plain": [
       "-2147483648"
      ]
     },
     "execution_count": 18,
     "metadata": {},
     "output_type": "execute_result"
    }
   ],
   "source": [
    "-2**31"
   ]
  },
  {
   "cell_type": "code",
   "execution_count": 94,
   "metadata": {},
   "outputs": [
    {
     "name": "stdout",
     "output_type": "stream",
     "text": [
      "3\n",
      "32\n"
     ]
    },
    {
     "data": {
      "text/plain": [
       "321"
      ]
     },
     "execution_count": 94,
     "metadata": {},
     "output_type": "execute_result"
    }
   ],
   "source": [
    "x = 123\n",
    "new_x = 0\n",
    "count = 0\n",
    "while x >= 10:\n",
    "    rem = x%10\n",
    "    x = x//10\n",
    "    new_x  = new_x * 10 + rem\n",
    "    count +=1\n",
    "    print(new_x)\n",
    "new_x = new_x * 10 + x\n",
    "new_x"
   ]
  },
  {
   "cell_type": "markdown",
   "metadata": {},
   "source": []
  }
 ],
 "metadata": {
  "kernelspec": {
   "display_name": "Python 3",
   "language": "python",
   "name": "python3"
  },
  "language_info": {
   "codemirror_mode": {
    "name": "ipython",
    "version": 3
   },
   "file_extension": ".py",
   "mimetype": "text/x-python",
   "name": "python",
   "nbconvert_exporter": "python",
   "pygments_lexer": "ipython3",
   "version": "3.12.0"
  }
 },
 "nbformat": 4,
 "nbformat_minor": 2
}
