{
 "cells": [
  {
   "cell_type": "markdown",
   "metadata": {},
   "source": [
    "### Sum of Two Elements"
   ]
  },
  {
   "cell_type": "code",
   "execution_count": null,
   "metadata": {},
   "outputs": [],
   "source": [
    "def twoSum(nums, target):\n",
    "    \"\"\"\n",
    "    This function find the index of two elements that sum is equal to the target\n",
    "    \"\"\"\n",
    "    left = 0\n",
    "    right = len(nums) - 1\n",
    "    while right > left:\n",
    "        while left < right:\n",
    "            if nums[left] + nums[right] == target:\n",
    "                return [left, right]\n",
    "            left += 1\n",
    "        right-=1"
   ]
  },
  {
   "cell_type": "markdown",
   "metadata": {},
   "source": [
    "### Find Pair"
   ]
  },
  {
   "cell_type": "code",
   "execution_count": 5,
   "metadata": {},
   "outputs": [
    {
     "data": {
      "text/plain": [
       "[3, 4]"
      ]
     },
     "execution_count": 5,
     "metadata": {},
     "output_type": "execute_result"
    }
   ],
   "source": [
    "def find_pair(nums, target):\n",
    "    \"\"\"\n",
    "    This function find the pairs that sums equal to the result using hashmap technique\n",
    "    \"\"\"\n",
    "    hashmap = {}\n",
    "    for i, num in enumerate(nums):\n",
    "        complement = target -num\n",
    "        if complement in hashmap:\n",
    "            return [hashmap[complement], i]\n",
    "        hashmap[num] = i\n",
    "find_pair([1,2,3,4,5], 9)"
   ]
  },
  {
   "cell_type": "markdown",
   "metadata": {},
   "source": [
    "### Find Maximum Number of Consecutive Ones"
   ]
  },
  {
   "cell_type": "code",
   "execution_count": 145,
   "metadata": {},
   "outputs": [
    {
     "data": {
      "text/plain": [
       "4"
      ]
     },
     "execution_count": 145,
     "metadata": {},
     "output_type": "execute_result"
    }
   ],
   "source": [
    "def find_max_consecutive_ones(nums):\n",
    "    \"\"\"\n",
    "    This function find maximum number of consecutive one's in a list with only 0's and 1's\n",
    "    \"\"\"\n",
    "    curr_count = 0\n",
    "    max_count = 0\n",
    "    for i in range(len(nums)):\n",
    "        if nums[i] == 1:\n",
    "            curr_count +=1\n",
    "        else:\n",
    "            if curr_count > max_count:\n",
    "                max_count = curr_count\n",
    "                curr_count = 0\n",
    "    return max(curr_count,max_count)\n",
    "\n",
    "\n",
    "\n",
    "nums = [1, 0, 1, 1, 0, 1, 1, 1, 1]\n",
    "find_max_consecutive_ones(nums)"
   ]
  },
  {
   "cell_type": "markdown",
   "metadata": {},
   "source": [
    "### Maximum Sum of All Possible Array"
   ]
  },
  {
   "cell_type": "code",
   "execution_count": 17,
   "metadata": {},
   "outputs": [
    {
     "data": {
      "text/plain": [
       "10"
      ]
     },
     "execution_count": 17,
     "metadata": {},
     "output_type": "execute_result"
    }
   ],
   "source": [
    "def max_subarr_sum(nums):\n",
    "    \"\"\"\n",
    "    This function use Kadane's algorithm to find maximum sum from all possible subarrays.\n",
    "    \"\"\"\n",
    "    curr_max = nums[0]\n",
    "    global_max = nums[0]\n",
    "    for i in range(1, len(nums)):\n",
    "        curr_max = max(curr_max, curr_max + nums[i])\n",
    "    return max(curr_max, global_max)\n",
    "\n",
    "\n",
    "max_subarr_sum([-2, 1, -3, 4, -1, 2, 1, -5, 4])"
   ]
  },
  {
   "cell_type": "markdown",
   "metadata": {},
   "source": [
    "## 2D Arrays\n",
    "\n",
    "### Generate N Rows for Pascal's Triangle"
   ]
  },
  {
   "cell_type": "code",
   "execution_count": 147,
   "metadata": {},
   "outputs": [
    {
     "data": {
      "text/plain": [
       "[[1],\n",
       " [1, 1],\n",
       " [1, 2, 1],\n",
       " [1, 3, 3, 1],\n",
       " [1, 4, 6, 4, 1],\n",
       " [1, 5, 10, 10, 5, 1],\n",
       " [1, 6, 15, 20, 15, 6, 1],\n",
       " [1, 7, 21, 35, 35, 21, 7, 1],\n",
       " [1, 8, 28, 56, 70, 56, 28, 8, 1],\n",
       " [1, 9, 36, 84, 126, 126, 84, 36, 9, 1]]"
      ]
     },
     "execution_count": 147,
     "metadata": {},
     "output_type": "execute_result"
    }
   ],
   "source": [
    "def generate(n):\n",
    "    \"\"\"\n",
    "    This function generates first N rows for Pascal triangle\n",
    "    \"\"\"\n",
    "    pascal = [[1]]\n",
    "    for i in range(1,n):\n",
    "        lst = []\n",
    "        for j in range(i+1):\n",
    "            if j in [0, i]:\n",
    "                lst.append(1)\n",
    "            else:\n",
    "                if len(pascal[i-1]) == 1:\n",
    "                    lst.append(1)\n",
    "                else:\n",
    "                    lst.append(pascal[i-1][j] + pascal[i-1][j-1])\n",
    "        pascal.append(lst)\n",
    "    return pascal\n",
    "generate(10)"
   ]
  },
  {
   "cell_type": "markdown",
   "metadata": {},
   "source": [
    "### Rotate Image"
   ]
  },
  {
   "cell_type": "code",
   "execution_count": 187,
   "metadata": {},
   "outputs": [
    {
     "data": {
      "text/plain": [
       "True"
      ]
     },
     "execution_count": 187,
     "metadata": {},
     "output_type": "execute_result"
    }
   ],
   "source": [
    "def can_be_rotated(mat, target):\n",
    "    \"\"\"\n",
    "    This function checks if an image can be rotated on 90, 180, or 270 anggle and returns True if yes and no otherwise.\n",
    "    \"\"\"\n",
    "    def degree_90(m):\n",
    "        n = len(m)\n",
    "        for i in range(n):\n",
    "            for j in range(i, n):\n",
    "                m[i][j], m[j][i] = m[j][i], m[i][j]\n",
    "        for i in range(n):\n",
    "            m[i] = m[i][::-1]\n",
    "        return m\n",
    "    def degree_180(m):\n",
    "        n = len(m)\n",
    "        for i in range(n):\n",
    "            m[i] = m[i][::-1]\n",
    "        i = 0\n",
    "        j = n - 1\n",
    "        while i < j:\n",
    "            m[i], m[j] = m[j], m[i]\n",
    "            i+=1\n",
    "            j-=1\n",
    "        return m\n",
    "    def degree_270(m):\n",
    "        n = len(m)\n",
    "        for i in range(n):\n",
    "            for j in range(i, n):\n",
    "                m[i][j], m[j][i] = m[j][i], m[i][j]\n",
    "        i = 0\n",
    "        j = n - 1\n",
    "        while i < j:\n",
    "            m[i], m[j] = m[j], m[i]\n",
    "            i+=1\n",
    "            j-=1\n",
    "        return m\n",
    "    funcs = [degree_90, degree_180, degree_270]\n",
    "    for func in funcs:\n",
    "        if target == func(mat):\n",
    "            return True\n",
    "    return False\n",
    "\n",
    "\n",
    "mat = [[0, 0, 0], [0, 1, 0], [1, 1, 1]]\n",
    "target = [[1, 1, 1], [0, 1, 0], [0, 0, 0]]\n",
    "can_be_rotated(mat, target)\n",
    "    \n"
   ]
  },
  {
   "cell_type": "markdown",
   "metadata": {},
   "source": [
    "### Spiral Matrix"
   ]
  },
  {
   "cell_type": "code",
   "execution_count": 148,
   "metadata": {},
   "outputs": [
    {
     "name": "stdout",
     "output_type": "stream",
     "text": [
      "[1, 2, 3, 4, 5, 6, 12, 18, 24, 30, 29, 28, 27, 26, 25, 19, 13, 7, 8, 9, 10, 11, 17, 23, 22, 21, 20, 14, 15, 16]\n"
     ]
    }
   ],
   "source": [
    "def spiralOrder(matrix):\n",
    "    \"\"\"\n",
    "    This function appends elements of matrix in spiral order in a new list\n",
    "    and return the list with elements in spiral order.\n",
    "    \"\"\"\n",
    "    top = 0 # 1\n",
    "    left = 0 # 1\n",
    "    bottom = len(matrix) # 4\n",
    "    right = len(matrix[0]) # 5\n",
    "    lst = []\n",
    "    #2< 3 and 2 < 4\n",
    "    while top < bottom and left < right:\n",
    "        for i in range(left, right): #(2,4) #\n",
    "            lst.append(matrix[top][i]) \n",
    "        top+=1 # 3\n",
    "        for i in range(top, bottom): #(2,4) \n",
    "            lst.append(matrix[i][right-1]) \n",
    "        right-=1 # 3\n",
    "        if top < bottom: # 3 < 3\n",
    "            for i in range(right-1, left-1, -1): #(3,0,-1)\n",
    "                lst.append(matrix[bottom-1][i])  \n",
    "            bottom-=1 # 3\n",
    "        if left < right: # 1 < 4\n",
    "            for i in range(bottom-1, top-1, -1): #(2,1,-1), \n",
    "                lst.append(matrix[i][left]) \n",
    "            left+=1#2\n",
    "    return lst\n",
    "\n",
    "matrix = [[1,2,3,4,5, 6],\n",
    "          [7,8,9,10,11,12],\n",
    "          [13,14,15,16,17,18],\n",
    "          [19,20,21,22,23,24],\n",
    "          [25,26,27,28,29,30]]\n",
    "result = spiralOrder(matrix)\n",
    "print(result)"
   ]
  },
  {
   "cell_type": "markdown",
   "metadata": {},
   "source": [
    "### Search a 2D Matrix"
   ]
  },
  {
   "cell_type": "code",
   "execution_count": 151,
   "metadata": {},
   "outputs": [
    {
     "data": {
      "text/plain": [
       "True"
      ]
     },
     "execution_count": 151,
     "metadata": {},
     "output_type": "execute_result"
    }
   ],
   "source": [
    "#simple linear search\n",
    "def search_matrix(matrix, target):\n",
    "    for i in range(len(matrix)):\n",
    "        for j in range(len(matrix[i])):\n",
    "            if matrix[i][j] == target:\n",
    "                return True\n",
    "    return False\n",
    "matrix = [[1, 3, 5, 7], \n",
    "                 [10, 11, 16, 20], \n",
    "                 [23, 30, 34, 60]]\n",
    "\n",
    "search_matrix(matrix, 3)"
   ]
  },
  {
   "cell_type": "code",
   "execution_count": 158,
   "metadata": {},
   "outputs": [
    {
     "data": {
      "text/plain": [
       "True"
      ]
     },
     "execution_count": 158,
     "metadata": {},
     "output_type": "execute_result"
    }
   ],
   "source": [
    "#using binary search on each row of matrix\n",
    "lst = [1,2,3,4,5]\n",
    "def searchMatrix(matrix, target):\n",
    "    for lst in matrix:\n",
    "        start = 0\n",
    "        end = len(lst) - 1\n",
    "        while start <= end:\n",
    "            mid = (start+end)//2\n",
    "            if lst[mid] == target:\n",
    "                return True\n",
    "            elif lst[mid] < target:\n",
    "                start = mid+1\n",
    "            else:\n",
    "                end = mid = 1\n",
    "    return False\n",
    "\n",
    "search_matrix([[1, 3, 5, 7], \n",
    "                 [10, 11, 16, 20], \n",
    "                 [23, 30, 34, 60]], 20)"
   ]
  },
  {
   "cell_type": "code",
   "execution_count": null,
   "metadata": {},
   "outputs": [],
   "source": [
    "#using binary search on whole matrix as single array\n",
    "def searchMatrix(matrix, target):\n",
    "    rows = len(matrix) \n",
    "    cols = len(matrix(0)) \n",
    "    left, right = 0, rows*cols-1\n",
    "    while left <= right:\n",
    "        mid = (left+right) // 2\n",
    "        row = mid//cols \n",
    "        col = mid % cols \n",
    "        mid_value = matrix[row][col] \n",
    "        if mid_value == target: \n",
    "            return True\n",
    "        elif mid_value < target: \n",
    "            left = mid + 1 \n",
    "        else:\n",
    "            right = mid-1 \n",
    "    return False"
   ]
  },
  {
   "cell_type": "markdown",
   "metadata": {},
   "source": [
    "### Reshape Matrix into Given Dimension"
   ]
  },
  {
   "cell_type": "code",
   "execution_count": 5,
   "metadata": {},
   "outputs": [
    {
     "data": {
      "text/plain": [
       "[[1, 2, 3, 4], [5, 6, 7, 8]]"
      ]
     },
     "execution_count": 5,
     "metadata": {},
     "output_type": "execute_result"
    }
   ],
   "source": [
    "def matrix_reshape(mat, r, c):\n",
    "    rows = len(mat)\n",
    "    cols = len(mat[0])\n",
    "    lst = []\n",
    "    new_mat = []\n",
    "    if rows*cols != r * c:\n",
    "        return mat\n",
    "    for row in mat:\n",
    "        lst.extend(row)\n",
    "    for row in range(r):\n",
    "        lst2 = []\n",
    "        for col in range(c):\n",
    "            lst2.append(lst[col])\n",
    "        lst = lst[col+1:]\n",
    "        new_mat.append(lst2)\n",
    "        lst2 = []\n",
    "    return new_mat\n",
    "\n",
    "matrix_reshape([[1,2],[3,4],[5,6],[7,8]],2,4)"
   ]
  },
  {
   "cell_type": "markdown",
   "metadata": {},
   "source": [
    "### Longest Substring Without Repeating Characters"
   ]
  },
  {
   "cell_type": "code",
   "execution_count": 6,
   "metadata": {},
   "outputs": [
    {
     "name": "stdout",
     "output_type": "stream",
     "text": [
      "[4, 0, 5]\n"
     ]
    }
   ],
   "source": [
    "s = \"abcabcbb\"\n",
    "sub_str = \"\"\n",
    "for char in s:\n",
    "    if char not in sub_str:\n",
    "        "
   ]
  },
  {
   "cell_type": "code",
   "execution_count": null,
   "metadata": {},
   "outputs": [],
   "source": []
  }
 ],
 "metadata": {
  "kernelspec": {
   "display_name": "Python 3",
   "language": "python",
   "name": "python3"
  },
  "language_info": {
   "codemirror_mode": {
    "name": "ipython",
    "version": 3
   },
   "file_extension": ".py",
   "mimetype": "text/x-python",
   "name": "python",
   "nbconvert_exporter": "python",
   "pygments_lexer": "ipython3",
   "version": "3.12.0"
  }
 },
 "nbformat": 4,
 "nbformat_minor": 2
}
